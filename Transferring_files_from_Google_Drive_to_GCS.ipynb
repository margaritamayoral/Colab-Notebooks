{
  "nbformat": 4,
  "nbformat_minor": 0,
  "metadata": {
    "colab": {
      "name": "Transferring files from Google Drive to GCS",
      "provenance": [],
      "include_colab_link": true
    },
    "kernelspec": {
      "name": "python3",
      "display_name": "Python 3"
    }
  },
  "cells": [
    {
      "cell_type": "markdown",
      "metadata": {
        "id": "view-in-github",
        "colab_type": "text"
      },
      "source": [
        "<a href=\"https://colab.research.google.com/github/margaritamayoral/Colab-Notebooks/blob/main/Transferring_files_from_Google_Drive_to_GCS.ipynb\" target=\"_parent\"><img src=\"https://colab.research.google.com/assets/colab-badge.svg\" alt=\"Open In Colab\"/></a>"
      ]
    },
    {
      "cell_type": "markdown",
      "metadata": {
        "id": "OPk9CrZM8bXx"
      },
      "source": [
        "# Transferring data from Google Drive to Google Cloud Storage\n",
        "This example shows how to transfer files from your Google Drive to a Google Cloud Storage project. We mount Google Drive using the google colab tools which requires authenticating in a separate brower window. Then we authenticate and connect our Google Cloud Storage project, list all buckets, and start copying files from Google Drive to our bucket."
      ]
    },
    {
      "cell_type": "code",
      "metadata": {
        "id": "gYyUbZ9j01LG"
      },
      "source": [
        "from google.colab import drive\n",
        "drive.mount('/content/drive')"
      ],
      "execution_count": null,
      "outputs": []
    },
    {
      "cell_type": "code",
      "metadata": {
        "id": "aehvgY-u7zRe"
      },
      "source": [
        "from google.colab import auth\n",
        "auth.authenticate_user()\n",
        "\n",
        "project_id = '<project_name>'\n",
        "!gcloud config set project {project_id}\n",
        "!gsutil ls\n"
      ],
      "execution_count": null,
      "outputs": []
    },
    {
      "cell_type": "code",
      "metadata": {
        "id": "bFfQadlr0_Wy"
      },
      "source": [
        "bucket_name = 'medium_demo_bucket_190710'\n",
        "\n",
        "!gsutil -m cp -r /content/drive/My\\ Drive/Data/* gs://{bucket_name}/"
      ],
      "execution_count": null,
      "outputs": []
    }
  ]
}